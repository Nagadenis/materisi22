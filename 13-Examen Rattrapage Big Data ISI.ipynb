{
 "cells": [
  {
   "cell_type": "markdown",
   "metadata": {
    "application/vnd.databricks.v1+cell": {
     "inputWidgets": {},
     "nuid": "f3532250-894b-455b-b7a3-e783dc1f0c9d",
     "showTitle": false,
     "title": ""
    }
   },
   "source": [
    "**Nom Etudiant :**  \n",
    "\n",
    "**Prenom Etudiant:**  \n",
    "\n",
    "**Classe :**  \n",
    "\n",
    "\n",
    "# Travail à Faire:\n",
    "Télécharger le Datasets sur le lien Drive : https://drive.google.com/file/d/1M1EwR7InB10Dzw7iU0MG5v4QWVeCaD48/view?usp=sharing   \n",
    "\n",
    "Repondre les questions ci-dessous avec le maximum de precisions et de détails.   \n",
    "Remplir `FILL_IN` avec les methodes qui correspondent à la réponse adéquate\n",
    "\n",
    "### Revenus des achats\n",
    "1. Extraire les revenus d'achat pour chaque événement\n",
    "2. Filtrer les événements dont le revenu n'est pas nul\n",
    "3. Vérifiez quels sont les types d'événements qui génèrent des revenus\n",
    "4. Supprimez la colonne inutile\n",
    "\n",
    "### Revenus par Traffic  \n",
    "Obtenir les 3 sources de trafic générant le revenu total le plus élevé.  \n",
    "5. Revenus cumulés par source de trafic  \n",
    "7. Obtenir les 3 principales sources de trafic par revenu total  \n",
    "6. Nettoyer les colonnes de revenus pour avoir deux décimales  \n",
    "8. Sauvegarder les données  \n",
    "\n",
    "\n",
    "##### Methods\n",
    "- DataFrame: `select`, `drop`, `withColumn`, `filter`, `dropDuplicates`,  `groupBy`, `sort`, `limit`\n",
    "- Column: `isNotNull`, `alias`, `desc`, `cast`, `operators`"
   ]
  },
  {
   "cell_type": "code",
   "execution_count": 1,
   "metadata": {
    "application/vnd.databricks.v1+cell": {
     "inputWidgets": {},
     "nuid": "124f66d5-a758-40f9-9254-9802175a7eee",
     "showTitle": false,
     "title": ""
    }
   },
   "outputs": [
    {
     "data": {
      "text/plain": [
       "Intitializing Scala interpreter ..."
      ]
     },
     "metadata": {},
     "output_type": "display_data"
    },
    {
     "data": {
      "text/plain": [
       "Spark Web UI available at http://192.168.140.226:4040\n",
       "SparkContext available as 'sc' (version = 3.0.1, master = local[*], app id = local-1651787678235)\n",
       "SparkSession available as 'spark'\n"
      ]
     },
     "metadata": {},
     "output_type": "display_data"
    },
    {
     "data": {
      "text/plain": [
       "import org.apache.spark.sql.SparkSession\n",
       "spark: org.apache.spark.sql.SparkSession = org.apache.spark.sql.SparkSession@5e75f308\n"
      ]
     },
     "execution_count": 1,
     "metadata": {},
     "output_type": "execute_result"
    }
   ],
   "source": [
    "import org.apache.spark.sql.SparkSession\n",
    "val spark = SparkSession.builder.\n",
    "                        appName(\"Session de Rattrapage Big Data\").\n",
    "                        config(\"spark.ui.port\", \"0\").\n",
    "                        master(\"yarn\").\n",
    "                        getOrCreate()"
   ]
  },
  {
   "cell_type": "code",
   "execution_count": 2,
   "metadata": {
    "application/vnd.databricks.v1+cell": {
     "inputWidgets": {},
     "nuid": "9e6a5343-3c8d-4b9b-9ea7-4b5897ff133b",
     "showTitle": false,
     "title": ""
    }
   },
   "outputs": [
    {
     "data": {
      "text/plain": [
       "eventsPath: String = datasets/events/events.json\n"
      ]
     },
     "execution_count": 2,
     "metadata": {},
     "output_type": "execute_result"
    }
   ],
   "source": [
    "val eventsPath = \"datasets/events/events.json\""
   ]
  },
  {
   "cell_type": "code",
   "execution_count": 3,
   "metadata": {
    "application/vnd.databricks.v1+cell": {
     "inputWidgets": {},
     "nuid": "54dcf1b1-4a15-48c7-a3bf-590499529d4a",
     "showTitle": false,
     "title": ""
    }
   },
   "outputs": [
    {
     "name": "stdout",
     "output_type": "stream",
     "text": [
      "+-------+---------+----------+------------------------+----------------+--------------------+--------------------+--------------+--------------------------+-----------------+\n",
      "| device|ecommerce|event_name|event_previous_timestamp| event_timestamp|                 geo|               items|traffic_source|user_first_touch_timestamp|          user_id|\n",
      "+-------+---------+----------+------------------------+----------------+--------------------+--------------------+--------------+--------------------------+-----------------+\n",
      "|  macOS|     [,,]|  warranty|        1593878899217692|1593878946592107|      [Montrose, MI]|                  []|        google|          1593878899217692|UA000000107379500|\n",
      "|Windows|     [,,]|     press|        1593876662175340|1593877011756535|   [Northampton, MA]|                  []|        google|          1593876662175340|UA000000107359357|\n",
      "|  macOS|     [,,]|  add_item|        1593878792892652|1593878815459100|       [Salinas, CA]|[[, M_STAN_T, Sta...|       youtube|          1593878455472030|UA000000107375547|\n",
      "|    iOS|     [,,]|mattresses|        1593878178791663|1593878809276923|       [Everett, MA]|                  []|      facebook|          1593877903116176|UA000000107370581|\n",
      "|Windows|     [,,]|mattresses|                    null|1593878628143633| [Cottage Grove, MN]|                  []|        google|          1593878628143633|UA000000107377108|\n",
      "|Windows|     [,,]|      main|                    null|1593878634344194|        [Medina, MN]|                  []|       youtube|          1593878634344194|UA000000107377161|\n",
      "|    iOS|     [,,]|      main|                    null|1593877936171803|[Mount Pleasant, UT]|                  []|        direct|          1593877936171803|UA000000107370851|\n",
      "|  macOS|     [,,]|      main|                    null|1593876843215329|      [Piedmont, AL]|                  []|     instagram|          1593876843215329|UA000000107360961|\n",
      "|Android|     [,,]|  warranty|        1593878529774474|1593879213196400|[Rancho Santa Mar...|                  []|     instagram|          1593878529774474|UA000000107376205|\n",
      "|Windows|     [,,]|      main|                    null|1593876713246514|        [Elyria, OH]|                  []|      facebook|          1593876713246514|UA000000107359805|\n",
      "|    iOS|     [,,]|  original|        1593878068949001|1593878170903989|      [Longview, WA]|                  []|        google|          1593877826716812|UA000000107369909|\n",
      "|  Linux|     [,,]|      main|                    null|1593878036347579|     [Lyndhurst, OH]|                  []|        direct|          1593878036347579|UA000000107371743|\n",
      "|Android|     [,,]|      down|        1593879057792999|1593879125815755|       [Jackson, MO]|                  []|      facebook|          1593879057792999|UA000000107380961|\n",
      "|  Linux|     [,,]|      main|                    null|1593878672173087|  [Cedar Rapids, IA]|                  []|        google|          1593878672173087|UA000000107377487|\n",
      "|  macOS|     [,,]|      main|                    null|1593876429415452|       [Phoenix, AZ]|                  []|        google|          1593876429415452|UA000000107357350|\n",
      "|    iOS|     [,,]|mattresses|                    null|1593876687337581|       [Warwick, RI]|                  []|        google|          1593876687337581|UA000000107359573|\n",
      "|  macOS|     [,,]|   premium|        1593877223736871|1593877973962436|       [Everett, WA]|                  []|     instagram|          1593877223736871|UA000000107364368|\n",
      "|Windows|     [,,]|   reviews|        1593876442432487|1593876944661570|       [Concord, CA]|                  []|        direct|          1593876442432487|UA000000107357467|\n",
      "|    iOS|     [,,]|  original|        1593877781854634|1593877788141768|      [Dunwoody, GA]|                  []|        google|          1593877781854634|UA000000107369512|\n",
      "|    iOS|     [,,]|      main|        1593877445670953|1593877497207417|     [Rochester, MN]|                  []|      facebook|          1593877300577217|UA000000107365065|\n",
      "+-------+---------+----------+------------------------+----------------+--------------------+--------------------+--------------+--------------------------+-----------------+\n",
      "only showing top 20 rows\n",
      "\n"
     ]
    },
    {
     "data": {
      "text/plain": [
       "eventsDF: org.apache.spark.sql.DataFrame = [device: string, ecommerce: struct<purchase_revenue_in_usd: double, total_item_quantity: bigint ... 1 more field> ... 8 more fields]\n"
      ]
     },
     "execution_count": 3,
     "metadata": {},
     "output_type": "execute_result"
    }
   ],
   "source": [
    "val eventsDF = spark.read.json(eventsPath)\n",
    "eventsDF.show()"
   ]
  },
  {
   "cell_type": "markdown",
   "metadata": {
    "application/vnd.databricks.v1+cell": {
     "inputWidgets": {},
     "nuid": "ca867dd2-4e12-40ad-a63b-4300fe236849",
     "showTitle": false,
     "title": ""
    }
   },
   "source": [
    "### 1. Extraire les revenus d'achat pour chaque événement\n",
    "Ajouter une nouvelle colonne **`revenue`** en faisant l'extration de **`ecommerce.purchase_revenue_in_usd`**"
   ]
  },
  {
   "cell_type": "code",
   "execution_count": null,
   "metadata": {
    "application/vnd.databricks.v1+cell": {
     "inputWidgets": {},
     "nuid": "4b6760a2-7b47-4713-aed3-65db8157dbe0",
     "showTitle": false,
     "title": ""
    }
   },
   "outputs": [],
   "source": [
    "import findspark\n",
    "findspark.init()\n",
    "# Importing the modules\n",
    "from datetime import datetime, date\n",
    "import pandas as pd\n",
    "from pyspark.sql import SparkSession\n",
    "\n",
    "# creating the session\n",
    "spark = SparkSession.builder.getOrCreate()\n",
    "spark.sql.DataFrame.withcolumn(revenue, commerce.purchase_revenue_in_usd)\n",
    "// TODO\n",
    "val revenueDF = eventsDF.FILL_IN\n",
    "revenueDF.show()"
   ]
  },
  {
   "cell_type": "markdown",
   "metadata": {
    "application/vnd.databricks.v1+cell": {
     "inputWidgets": {},
     "nuid": "0b36255e-809d-4f37-bf29-14a84fb54dbc",
     "showTitle": false,
     "title": ""
    }
   },
   "source": [
    "### 2. Filtrer les événements dont le revenu n'est pas null"
   ]
  },
  {
   "cell_type": "code",
   "execution_count": null,
   "metadata": {
    "application/vnd.databricks.v1+cell": {
     "inputWidgets": {},
     "nuid": "c3ab4d8d-3ba9-4efe-a0b2-f64a313c52a7",
     "showTitle": false,
     "title": ""
    }
   },
   "outputs": [],
   "source": [
    "\n",
    "// TODO\n",
    "val purchasesDF = revenueDF.FILL_IN\n",
    "purchasesDF.show()\n",
    "df.filter(\"state is NOT NULL\").show()\n",
    "df.filter(df.state.isNotNull()).show()\n"
   ]
  },
  {
   "cell_type": "markdown",
   "metadata": {
    "application/vnd.databricks.v1+cell": {
     "inputWidgets": {},
     "nuid": "8c7799f6-4668-47fe-ad11-2d95fb42f3cd",
     "showTitle": false,
     "title": ""
    }
   },
   "source": [
    "### 3. Vérifiez quels sont les types d'événements qui génèrent des revenus\n",
    "Trouvez des valeurs **`event_name`** uniques dans **`purchasesDF`**. Il y a deux façons de faire :\n",
    "- Sélectionnez \"event_name\" et recupérer les enregistrements distincts\n",
    "- Supprimez les enregistrements en double en fonction de \"event_name\" uniquement"
   ]
  },
  {
   "cell_type": "code",
   "execution_count": null,
   "metadata": {
    "application/vnd.databricks.v1+cell": {
     "inputWidgets": {},
     "nuid": "9be33ae8-08e1-4f11-901a-d11f94d1a2a3",
     "showTitle": false,
     "title": ""
    }
   },
   "outputs": [],
   "source": [
    "// TODO\n",
    "val distinctDF = purchasesDF.FILL_IN\n",
    "distinctDF.show\n",
    "df.createOrReplaceTempView(\"DATA\")\n",
    "spark.sql(\"SELECT *  FROM DATA and retrieve recording distinctDF\").show()"
   ]
  },
  {
   "cell_type": "markdown",
   "metadata": {
    "application/vnd.databricks.v1+cell": {
     "inputWidgets": {},
     "nuid": "da232f23-514c-4423-975f-20162fec0cb9",
     "showTitle": false,
     "title": ""
    }
   },
   "source": [
    "### 4. Supprimez la colonne inutile\n",
    "Puisqu'il n'y a qu'un seul type d'événement, supprimez **`event_name`** de **`purchasesDF`**."
   ]
  },
  {
   "cell_type": "code",
   "execution_count": null,
   "metadata": {
    "application/vnd.databricks.v1+cell": {
     "inputWidgets": {},
     "nuid": "cff64c80-f082-408f-8ad2-50abd75d2f75",
     "showTitle": false,
     "title": ""
    }
   },
   "outputs": [],
   "source": [
    "// TODO\n",
    "val cleanDF = purchasesDF.FILL_IN\n",
    "cleanDF.show\n",
    "\n",
    "from pyspark.sql import SparkSession\n",
    "\n",
    "spark: SparkSession = SparkSession.builder \\\n",
    "    .master(\"local[1]\") \\\n",
    "    .appName(\"datasets/events/events.json\") \\\n",
    "    .getOrCreate()\n",
    "\n",
    "filePath=\"resources/small_zipcode.csv\"\n",
    "df = spark.read.options(header='true', inferSchema='true') \\\n",
    ".csv(filePath)\n",
    "\n",
    "df.printSchema()\n",
    "df.show(truncate=False)"
   ]
  },
  {
   "cell_type": "markdown",
   "metadata": {
    "application/vnd.databricks.v1+cell": {
     "inputWidgets": {},
     "nuid": "c9ca35ef-7fa1-4259-b7cc-59a42a7e3fdc",
     "showTitle": false,
     "title": ""
    }
   },
   "source": [
    "### 5. Revenus cumulés par source de trafic\n",
    "- Grouper par **`traffic_source`**\n",
    "- Obtenir la somme de **`revenue`** comme **`total_rev`**\n",
    "- Obtenir la moyenne de **`revenue`** comme **`avg_rev`**\n",
    "\n",
    "N'oubliez pas d'importer toutes les fonctions intégrées nécessaires."
   ]
  },
  {
   "cell_type": "code",
   "execution_count": null,
   "metadata": {
    "application/vnd.databricks.v1+cell": {
     "inputWidgets": {},
     "nuid": "bd64d109-4513-48f9-b5b4-85f4ef6b1b0d",
     "showTitle": false,
     "title": ""
    }
   },
   "outputs": [],
   "source": [
    "// TODO\n",
    "val trafficDF = cleanDF.FILL_IN\n",
    "trafficDF.show()"
   ]
  },
  {
   "cell_type": "markdown",
   "metadata": {
    "application/vnd.databricks.v1+cell": {
     "inputWidgets": {},
     "nuid": "752ce304-d2e1-47f5-acd0-d5a30183bf19",
     "showTitle": false,
     "title": ""
    }
   },
   "source": [
    "### 6. Obtenir les trois principales sources de trafic par revenu total\n",
    "- Trier par **`total_rev`** dans l'ordre décroissant\n",
    "- Se limiter aux trois premières lignes"
   ]
  },
  {
   "cell_type": "code",
   "execution_count": null,
   "metadata": {
    "application/vnd.databricks.v1+cell": {
     "inputWidgets": {},
     "nuid": "89de0a73-924d-4b55-8ed2-9b936dabc496",
     "showTitle": false,
     "title": ""
    }
   },
   "outputs": [],
   "source": [
    "//TODO\n",
    "val topTrafficDF = trafficDF.FILL_IN\n",
    "topTrafficDF.show()"
   ]
  },
  {
   "cell_type": "markdown",
   "metadata": {
    "application/vnd.databricks.v1+cell": {
     "inputWidgets": {},
     "nuid": "e46516b0-0637-47c4-a29d-58b32c8760db",
     "showTitle": false,
     "title": ""
    }
   },
   "source": [
    "### 7. Limitez les colonnes de revenus à deux décimales pointés\n",
    "- Modifier les colonnes **`avg_rev`** et **`total_rev`** pour les convertir en des nombres avec deux décimales pointés"
   ]
  },
  {
   "cell_type": "code",
   "execution_count": null,
   "metadata": {
    "application/vnd.databricks.v1+cell": {
     "inputWidgets": {},
     "nuid": "9660408e-252d-4b78-a6e6-e3028640f4b0",
     "showTitle": false,
     "title": ""
    }
   },
   "outputs": [],
   "source": [
    "// TODO\n",
    "finalDF = topTrafficDF.FILL_IN\n",
    "finalDF.show()"
   ]
  },
  {
   "cell_type": "markdown",
   "metadata": {
    "application/vnd.databricks.v1+cell": {
     "inputWidgets": {},
     "nuid": "d5a1355c-e00e-4d31-a7bc-0661051fcb97",
     "showTitle": false,
     "title": ""
    }
   },
   "source": [
    "### 8. Sauvegarder les données \n",
    "Sauvegarder les données sous le format parquet"
   ]
  },
  {
   "cell_type": "code",
   "execution_count": null,
   "metadata": {
    "application/vnd.databricks.v1+cell": {
     "inputWidgets": {},
     "nuid": "a5515ca2-6f91-4337-b949-0a0a3ed713cf",
     "showTitle": false,
     "title": ""
    }
   },
   "outputs": [],
   "source": [
    "// TODO\n",
    "finalDF.FILL_IN"
   ]
  },
  {
   "cell_type": "code",
   "execution_count": null,
   "metadata": {},
   "outputs": [],
   "source": [
    "/*\n",
    "%fs ls /tmp/fireServiceParquet/\n",
    "fireServiceCallsTsDF.write.format('parquet').save('/tmp/fireServiceParquet/'\n",
    "*/"
   ]
  }
 ],
 "metadata": {
  "application/vnd.databricks.v1+notebook": {
   "dashboards": [],
   "language": "python",
   "notebookMetadata": {
    "pythonIndentUnit": 2
   },
   "notebookName": "Examen Rattrapage  Big Data ISI",
   "notebookOrigID": 2952678889524244,
   "widgets": {}
  },
  "kernelspec": {
   "display_name": "spylon-kernel",
   "language": "scala",
   "name": "spylon-kernel"
  },
  "language_info": {
   "codemirror_mode": "text/x-scala",
   "file_extension": ".scala",
   "help_links": [
    {
     "text": "MetaKernel Magics",
     "url": "https://metakernel.readthedocs.io/en/latest/source/README.html"
    }
   ],
   "mimetype": "text/x-scala",
   "name": "scala",
   "pygments_lexer": "scala",
   "version": "0.4.1"
  }
 },
 "nbformat": 4,
 "nbformat_minor": 4
}
